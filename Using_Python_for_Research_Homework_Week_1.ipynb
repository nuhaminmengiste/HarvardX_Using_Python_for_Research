{
  "nbformat": 4,
  "nbformat_minor": 0,
  "metadata": {
    "kernelspec": {
      "display_name": "Python 3",
      "language": "python",
      "name": "python3"
    },
    "language_info": {
      "codemirror_mode": {
        "name": "ipython",
        "version": 3
      },
      "file_extension": ".py",
      "mimetype": "text/x-python",
      "name": "python",
      "nbconvert_exporter": "python",
      "pygments_lexer": "ipython3",
      "version": "3.7.6"
    },
    "colab": {
      "name": "Using_Python_for_Research_Homework_Week 1.ipynb",
      "provenance": [],
      "include_colab_link": true
    }
  },
  "cells": [
    {
      "cell_type": "markdown",
      "metadata": {
        "id": "view-in-github",
        "colab_type": "text"
      },
      "source": [
        "<a href=\"https://colab.research.google.com/github/nuhaminmengiste/HarvardX_Using_Python_for_Research/blob/master/Using_Python_for_Research_Homework_Week_1.ipynb\" target=\"_parent\"><img src=\"https://colab.research.google.com/assets/colab-badge.svg\" alt=\"Open In Colab\"/></a>"
      ]
    },
    {
      "cell_type": "markdown",
      "metadata": {
        "id": "dMep5p4_egXS"
      },
      "source": [
        "# Using Python for Research Homework: Week 1\n",
        "\n",
        "In this homework, we will use objects, functions, and randomness to find the length of documents, approximate $\\pi$, and smooth out random noise."
      ]
    },
    {
      "cell_type": "markdown",
      "metadata": {
        "id": "Mj5Ecxb6egXT"
      },
      "source": [
        "### Exercise 1\n",
        "\n",
        "In this five-part exercise, we will count the frequency of each letter in a given string.\n",
        "\n",
        "#### Exercise 1a\n",
        "\n",
        "- Import the `string` library.\n",
        "- Create a variable `alphabet` that consists of the lowercase and uppercase letters in the English alphabet using the `ascii_letters` data attribute of the `string` library."
      ]
    },
    {
      "cell_type": "code",
      "metadata": {
        "id": "osaoQgSfegXT",
        "outputId": "3d155abc-0042-4256-b92c-4413f4327c14"
      },
      "source": [
        "# write your code here!\n",
        "import string\n",
        "alphabet = string.ascii_letters\n",
        "alphabet"
      ],
      "execution_count": null,
      "outputs": [
        {
          "output_type": "execute_result",
          "data": {
            "text/plain": [
              "'abcdefghijklmnopqrstuvwxyzABCDEFGHIJKLMNOPQRSTUVWXYZ'"
            ]
          },
          "metadata": {
            "tags": []
          },
          "execution_count": 11
        }
      ]
    },
    {
      "cell_type": "markdown",
      "metadata": {
        "id": "2Ut-rT9ZegXX"
      },
      "source": [
        "#### Exercise 1b\n",
        "- The lower and upper case letters of the English alphabet should stored as the string variable `alphabet`.\n",
        "- Consider the sentence 'Jim quickly realized that the beautiful gowns are expensive'. Create a dictionary `count_letters` with keys consisting of each unique letter in the sentence and values consisting of the number of times each letter is used in this sentence. Count upper case and lower case letters separately in the dictionary."
      ]
    },
    {
      "cell_type": "code",
      "metadata": {
        "id": "SMRcMR-EegXY"
      },
      "source": [
        "sentence = 'Jim quickly realized that the beautiful gowns are expensive'\n",
        "#count_letters = {set(sentence):(sentence.count(i) for i in set(sentence))} #wrong b/c if we make them sets, then the values will always be 1 b/c set elements are distinct\n",
        "count_letters = {}\n",
        "for i in sentence:   #note it would be interesting to get rid of the blank spaces\n",
        "    if i != ' ':\n",
        "        count_letters.update({i:sentence.count(i)})\n",
        "#count_letters  #run this one without the hashtag, it works!"
      ],
      "execution_count": null,
      "outputs": []
    },
    {
      "cell_type": "markdown",
      "metadata": {
        "id": "IPF2kFRpegXb"
      },
      "source": [
        "#### Exercise 1c\n",
        "- Rewrite your code from 1b to make a function called `counter` that takes a string `input_string` and returns a dictionary of letter counts `count_letters`.\n",
        "- Use your function to call `counter(sentence)`."
      ]
    },
    {
      "cell_type": "code",
      "metadata": {
        "id": "GxDYsw8NegXc"
      },
      "source": [
        "def counter(x):\n",
        "    count_letters = {}\n",
        "    for i in x:\n",
        "        if i != ' ':\n",
        "            count_letters.update({i:x.count(i)})\n",
        "    return count_letters\n",
        "#counter(sentence) #enter a string in this function, and it works!\n"
      ],
      "execution_count": null,
      "outputs": []
    },
    {
      "cell_type": "markdown",
      "metadata": {
        "id": "PwyE7QXmegXf"
      },
      "source": [
        "#### Exercise 1d\n",
        "- Abraham Lincoln was a president during the American Civil War. His famous 1863 Gettysburg Address has been stored as `address`. Use the `counter` function from 1c to return a dictionary consisting of the count of each letter in this address and save it as `address_count`."
      ]
    },
    {
      "cell_type": "code",
      "metadata": {
        "id": "Sr-4sGkAegXf",
        "outputId": "9cf8e300-fb78-4e1e-eb44-cbeb2976b9dc"
      },
      "source": [
        "address = \"\"\"Four score and seven years ago our fathers brought forth on this continent, a new nation, \n",
        "conceived in Liberty, and dedicated to the proposition that all men are created equal. Now we are engaged in a \n",
        "great civil war, testing whether that nation, or any nation so conceived and so dedicated, can long endure. \n",
        "We are met on a great battle-field of that war. We have come to dedicate a portion of that field, as a final \n",
        "resting place for those who here gave their lives that that nation might live. It is altogether fitting and proper \n",
        "that we should do this. But, in a larger sense, we can not dedicate -- we can not consecrate -- we can not hallow -- \n",
        "this ground. The brave men, living and dead, who struggled here, have consecrated it, far above our poor power to add \n",
        "or detract. The world will little note, nor long remember what we say here, but it can never forget what they did here. \n",
        "It is for us the living, rather, to be dedicated here to the unfinished work which they who fought here have thus far so \n",
        "nobly advanced. It is rather for us to be here dedicated to the great task remaining before us -- that from these honored \n",
        "dead we take increased devotion to that cause for which they gave the last full measure of devotion -- that we here \n",
        "highly resolve that these dead shall not have died in vain -- that this nation, under God, shall have a new birth of \n",
        "freedom -- and that government of the people, by the people, for the people, shall not perish from the earth.\"\"\"   \n",
        "\n",
        "# Write your code here!\n",
        "address_count = counter(address)\n",
        "address_count[\"h\"] #How many times does the letter h appear in the Gettysburg Address?\n"
      ],
      "execution_count": null,
      "outputs": [
        {
          "output_type": "execute_result",
          "data": {
            "text/plain": [
              "80"
            ]
          },
          "metadata": {
            "tags": []
          },
          "execution_count": 92
        }
      ]
    },
    {
      "cell_type": "markdown",
      "metadata": {
        "id": "YgXPSU37egXi"
      },
      "source": [
        "#### Exercise 1f\n",
        "- The frequency of each letter in the Gettysburg Address is already stored as `address_count`. Use this dictionary to find the most common letter in the Gettysburg address."
      ]
    },
    {
      "cell_type": "code",
      "metadata": {
        "id": "WHzFKwfYegXj",
        "outputId": "8b9faeec-6f8f-4023-b196-5a057fafaa39"
      },
      "source": [
        "max(address_count, key=address_count.get)"
      ],
      "execution_count": null,
      "outputs": [
        {
          "output_type": "execute_result",
          "data": {
            "text/plain": [
              "'e'"
            ]
          },
          "metadata": {
            "tags": []
          },
          "execution_count": 90
        }
      ]
    },
    {
      "cell_type": "markdown",
      "metadata": {
        "id": "RzYT4iLXegXm"
      },
      "source": [
        "### Exercise 2\n",
        "\n",
        "Consider a circle inscribed in a square. The ratio of their areas (the ratio of the area of the circle to the area of the square) is $\\frac{\\pi}{4}$. In this six-part exercise, we will find a way to approximate this value.\n",
        "\n",
        "#### Exercise 2a\n",
        "- Using the `math` library, calculate and print the value of $\\frac{\\pi}{4}$"
      ]
    },
    {
      "cell_type": "code",
      "metadata": {
        "id": "IslaR4GQegXm",
        "outputId": "79f3b1ec-d9f7-463b-c585-ff9d75c1f52e"
      },
      "source": [
        "# write your code here\n",
        "import math\n",
        "print(math.pi/4)\n"
      ],
      "execution_count": null,
      "outputs": [
        {
          "output_type": "stream",
          "text": [
            "0.7853981633974483\n"
          ],
          "name": "stdout"
        }
      ]
    },
    {
      "cell_type": "markdown",
      "metadata": {
        "id": "VbH1Bb-megXp"
      },
      "source": [
        "#### Exercise 2b\n",
        "- Using `random.uniform()`, create a function `rand()` that generates a single float between $-1$ and $1$.\n",
        "- Call `rand()` once. For us to be able to check your solution, we will use `random.seed()` to fix the seed value of the random number generator."
      ]
    },
    {
      "cell_type": "code",
      "metadata": {
        "id": "koJudVw5egXq",
        "outputId": "4f8785f7-65ae-45f2-e399-a274c6869f9b"
      },
      "source": [
        "import random\n",
        "random.seed(1) # Fixes the see of the random number generator.\n",
        "def rand(): # define `rand` here!\n",
        "    ans = float(random.uniform(-1,1))\n",
        "    return ans\n",
        "rand()"
      ],
      "execution_count": null,
      "outputs": [
        {
          "output_type": "execute_result",
          "data": {
            "text/plain": [
              "-0.7312715117751976"
            ]
          },
          "metadata": {
            "tags": []
          },
          "execution_count": 30
        }
      ]
    },
    {
      "cell_type": "markdown",
      "metadata": {
        "id": "G2OFMkXTegXs"
      },
      "source": [
        "#### Exercise 2c\n",
        "- The distance between two points x and y is the square root of the sum of squared differences along each dimension of x and y. Write a function` distance(x, y)` that takes two vectors as its input and outputs the distance between them. Use your function to find the distance between $x=(0,0)$ and $y=(1,1)$."
      ]
    },
    {
      "cell_type": "code",
      "metadata": {
        "id": "T7s_mH-JegXs",
        "outputId": "b90f16dd-eba1-4292-dde3-4a7967bd107b"
      },
      "source": [
        "def distance(x1,y1,x2,y2): #naming the function\n",
        "    dist =((x1 - x2)**2 + (y1 - y2)**2)**0.5\n",
        "    return(dist) \n",
        "distance(0,0,1,1) "
      ],
      "execution_count": null,
      "outputs": [
        {
          "output_type": "execute_result",
          "data": {
            "text/plain": [
              "1.4142135623730951"
            ]
          },
          "metadata": {
            "tags": []
          },
          "execution_count": 7
        }
      ]
    },
    {
      "cell_type": "code",
      "metadata": {
        "id": "IDX0yMDAegXu",
        "outputId": "ee6e2ccf-1767-4d61-f22c-94877a77023c"
      },
      "source": [
        " print('test')"
      ],
      "execution_count": null,
      "outputs": [
        {
          "output_type": "stream",
          "text": [
            "test\n"
          ],
          "name": "stdout"
        }
      ]
    },
    {
      "cell_type": "markdown",
      "metadata": {
        "id": "AewC-ddSegXw"
      },
      "source": [
        "#### Exercise 2d\n",
        "\n",
        "- Write a function `in_circle(x, origin)` that determines whether a point in a two dimensional plane falls within a unit circle surrounding a given origin.\n",
        "    - Your function should return a boolean `True` if the distance between `x` and `origin` is less than 1 and `False` otherwise.\n",
        "    - Use `distance(x, y)` as defined in 2c.\n",
        "- Use your function to determine whether the point (1,1) lies within the unit circle centered at (0,0)."
      ]
    },
    {
      "cell_type": "code",
      "metadata": {
        "id": "GcnN7WvlegXx",
        "outputId": "7562f721-d044-4398-9cc6-ae9c4a4d4fe4"
      },
      "source": [
        "def in_circle(x2,y2):\n",
        "    if distance(0,0,x2,y2) <=1:\n",
        "        print(True)\n",
        "    else:\n",
        "        print(False)\n",
        "in_circle(1,1)"
      ],
      "execution_count": null,
      "outputs": [
        {
          "output_type": "stream",
          "text": [
            "False\n"
          ],
          "name": "stdout"
        }
      ]
    },
    {
      "cell_type": "markdown",
      "metadata": {
        "id": "GiXQKoUwegXz"
      },
      "source": [
        "#### Exercise 2e\n",
        "\n",
        "- Create a list `inside` of `R=10000` booleans that determines whether or not a point falls within the unit circle centered at `(0,0)`. \n",
        "    - Use the `rand` function from 2b to generate `R` randomly located points.\n",
        "    - Use the function `in_circle` to test whether or not a given pint falls within the unit circle.\n",
        "- Find the proportion of points that fall within the circle by summing all `True` values in the `inside` list; then divide the answer by `R` to obtain a proportion.\n",
        "- Print your answer. This proportion is an estimate of the ratio of the two areas!"
      ]
    },
    {
      "cell_type": "code",
      "metadata": {
        "id": "WqfD3qDBegX0",
        "outputId": "4b0ebe1b-3ec5-45a1-dceb-48f58fc2a64d"
      },
      "source": [
        "#random.seed(1) #NOT SURE I UNDERSTAND THE QUESTION, WHAT DOES R stand for? why do I need to define it?\n",
        "#inside = [] #creating an empty list\n",
        "#for r in range(10000):\n",
        "   # random = rand()\n",
        "   # item = in_circle(random)\n",
        "   # inside.append(item)\n",
        "#inside"
      ],
      "execution_count": null,
      "outputs": [
        {
          "output_type": "error",
          "ename": "SyntaxError",
          "evalue": "invalid syntax (<ipython-input-36-4be43405806a>, line 3)",
          "traceback": [
            "\u001b[1;36m  File \u001b[1;32m\"<ipython-input-36-4be43405806a>\"\u001b[1;36m, line \u001b[1;32m3\u001b[0m\n\u001b[1;33m    for r in range(10000)\u001b[0m\n\u001b[1;37m                         ^\u001b[0m\n\u001b[1;31mSyntaxError\u001b[0m\u001b[1;31m:\u001b[0m invalid syntax\n"
          ]
        }
      ]
    },
    {
      "cell_type": "markdown",
      "metadata": {
        "id": "847D2zguegX2"
      },
      "source": [
        "#### Exercise 2f\n",
        "\n",
        "- Find the difference between your estimate from part 2e and `math.pi / 4`. Note: `inside` and `R` are defined as in Exercise 2e."
      ]
    },
    {
      "cell_type": "code",
      "metadata": {
        "id": "06XucUfEegX2"
      },
      "source": [
        "# write your code here!\n"
      ],
      "execution_count": null,
      "outputs": []
    },
    {
      "cell_type": "markdown",
      "metadata": {
        "id": "YMVqwuzjegX4"
      },
      "source": [
        "### Exercise 3\n",
        "\n",
        "A list of numbers representing measurements obtained from a system of interest can often be noisy. One way to deal with noise to smoothen the values by replacing each value with the average of the value and the values of its neighbors.\n",
        "\n",
        "#### Exercise 3a\n",
        "\n",
        "- Write a function `moving_window_average(x, n_neighbors)` that takes a list `x` and the number of neighbors `n_neighbors` on either side of a given member of the list to consider.\n",
        "- For each value in `x`, `moving_window_average(x, n_neighbors)` computes the average of the value and the values of its neighbors.\n",
        "- `moving_window_average` should return a list of averaged values that is the same length as the original list.\n",
        "- If there are not enough neighbors (for cases near the edge), substitute the original value for a neighbor for each missing neighbor.\n",
        "- Use your function to find the moving window sum of `x=[0,10,5,3,1,5]` and `n_neighbors=1`."
      ]
    },
    {
      "cell_type": "code",
      "metadata": {
        "id": "n_dLjKkNegX5"
      },
      "source": [
        "def moving_window_average(x, n_neighbors=1):\n",
        "    n = len(x)\n",
        "    width = n_neighbors*2 + 1\n",
        "    x = [x[0]]*n_neighbors + x + [x[-1]]*n_neighbors\n",
        "    # To complete the function,\n",
        "    # return a list of the mean of values from i to i+width for all values i from 0 to n-1.\n",
        "\n",
        "x = [0,10,5,3,1,5]\n",
        "print(moving_window_average(x, 1))"
      ],
      "execution_count": null,
      "outputs": []
    },
    {
      "cell_type": "markdown",
      "metadata": {
        "id": "jMHUP4IyegX8"
      },
      "source": [
        "#### Exercise 3b\n",
        "- Compute and store `R=1000` random values from 0-1 as `x`.\n",
        "- Compute the moving window average for `x` for values of `n_neighbors` ranging from 1 to 9 inclusive.\n",
        "- Store `x` as well as each of these averages as consecutive lists in a list called `Y`"
      ]
    },
    {
      "cell_type": "code",
      "metadata": {
        "id": "dFN6IH_TegX8"
      },
      "source": [
        "random.seed(1) # This line fixes the value called by your function,\n",
        "               # and is used for answer-checking.\n",
        "    \n",
        "# write your code here!\n"
      ],
      "execution_count": null,
      "outputs": []
    },
    {
      "cell_type": "markdown",
      "metadata": {
        "id": "0884bAG2egYA"
      },
      "source": [
        "#### Exercise 3c\n",
        "\n",
        "- For each list in `Y`, calculate and store the range (the maximum minus the minimum) in a new list ranges.\n",
        "- Print your answer. As the window width increases, does the range of each list increase or decrease? Why do you think that is?"
      ]
    },
    {
      "cell_type": "code",
      "metadata": {
        "id": "3WQNxTVpegYA"
      },
      "source": [
        "# write your code here!\n"
      ],
      "execution_count": null,
      "outputs": []
    }
  ]
}