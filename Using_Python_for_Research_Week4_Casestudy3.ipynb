{
  "nbformat": 4,
  "nbformat_minor": 0,
  "metadata": {
    "kernelspec": {
      "display_name": "Python 3",
      "language": "python",
      "name": "python3"
    },
    "language_info": {
      "codemirror_mode": {
        "name": "ipython",
        "version": 3
      },
      "file_extension": ".py",
      "mimetype": "text/x-python",
      "name": "python",
      "nbconvert_exporter": "python",
      "pygments_lexer": "ipython3",
      "version": "3.7.6"
    },
    "toc": {
      "base_numbering": 1,
      "nav_menu": {},
      "number_sections": false,
      "sideBar": true,
      "skip_h1_title": false,
      "title_cell": "Table of Contents",
      "title_sidebar": "Contents",
      "toc_cell": false,
      "toc_position": {},
      "toc_section_display": true,
      "toc_window_display": true
    },
    "colab": {
      "name": "Using_Python_for_Research_Week4_Casestudy3.ipynb",
      "provenance": [],
      "include_colab_link": true
    }
  },
  "cells": [
    {
      "cell_type": "markdown",
      "metadata": {
        "id": "view-in-github",
        "colab_type": "text"
      },
      "source": [
        "<a href=\"https://colab.research.google.com/github/nuhaminmengiste/HarvardX_Using_Python_for_Research/blob/master/Using_Python_for_Research_Week4_Casestudy3.ipynb\" target=\"_parent\"><img src=\"https://colab.research.google.com/assets/colab-badge.svg\" alt=\"Open In Colab\"/></a>"
      ]
    },
    {
      "cell_type": "markdown",
      "metadata": {
        "id": "MNu5Wb6tDmtw"
      },
      "source": [
        "# Using Python for Research Homework: Week 4, Case Study 3\n",
        "\n",
        "Homophily is a property of networks.  Homophily occurs when nodes that are neighbors in a network also share a characteristic more often than nodes that are not network neighbors.  In this case study, we will investigate homophily of several characteristics of individuals connected in social networks in rural India."
      ]
    },
    {
      "cell_type": "markdown",
      "metadata": {
        "id": "1KmpIX_wDmt0"
      },
      "source": [
        "### Exercise 1\n",
        "In Exercise 1, we will calculate the chance homophily for an arbitrary characteristic. Homophily is the proportion of edges in the network whose constituent nodes share that characteristic.\n",
        "\n",
        "How much homophily do we expect by chance? If characteristics are distributed completely randomly, the probability that two nodes \\(x\\) and \\(y\\) share characteristic \\(a\\) is the probability both nodes have characteristic \\(a\\) , which is the marginal probability of \\(a\\) squared. The total probability that nodes \\(x\\) and \\(y\\) share their characteristic is therefore the sum of the square of the marginal probabilities of each characteristic in the network.\n",
        "\n",
        "<strong>Instructions</strong>\n",
        "<ul><li>Create a function <code>marginal_prob</code> that takes a dictionary <code>chars</code> with personal IDs as keys and characteristics as values; it should return a dictionary with characteristics as keys and their marginal probability (frequency of occurence of a characteristic divided by the sum of frequencies of each characteristic) as values.</li>\n",
        "<li>Create a function <code>chance_homophily(chars)</code> that takes a dictionary <code>chars</code> defined as above and computes the chance homophily (homophily due to chance alone) for that characteristic.</li>\n",
        "<li>A sample of three peoples' favorite colors is given in <code>favorite_colors</code>. Use your function to compute the chance homophily in this group, and store it as <code>color_homophily</code>.</li>\n",
        "<li>Print <code>color_homophily</code>.</li></ul>"
      ]
    },
    {
      "cell_type": "code",
      "metadata": {
        "id": "JReIX6XyDmt1",
        "outputId": "65d43322-8b0c-4266-ebc0-c1de9ff82f33"
      },
      "source": [
        "from collections import Counter\n",
        "import numpy as np\n",
        "\n",
        "# test data\n",
        "s = {\"a\":\"create\", \"b\":\"destroy\", \"c\":2, \"d\":\"create\"}\n",
        "a = Counter(list(s.values()))\n",
        "list(a.values())\n",
        "list(a)\n",
        "#test over \n",
        "\n",
        "def marginal_prob(chars):\n",
        "    marg_prob = {}\n",
        "    a = Counter(list(chars.values())) #creating a counter dictionary of the frequency of each value\n",
        "    for i in range(len(a)): \n",
        "        marg_prob[str(list(a)[i])] = list(a.values())[i]/sum(list(a.values()))\n",
        "    return marg_prob\n",
        "print(marginal_prob(s))\n",
        "    \n",
        "def chance_homophily(chars):  #calculates the sum of the square of the marginal probabilities of each characteristic in the network\n",
        "    b = marginal_prob(chars)\n",
        "    chance = 0\n",
        "    for i in range(len(b)):\n",
        "        chance += (list(b.values())[i])**2\n",
        "    return chance\n",
        "print(chance_homophily(s))\n",
        "\n",
        "favorite_colors = {\n",
        "    \"ankit\":  \"red\",\n",
        "    \"xiaoyu\": \"blue\",\n",
        "    \"mary\":   \"blue\"\n",
        "}\n",
        "\n",
        "color_homophily = chance_homophily(favorite_colors)\n",
        "print(color_homophily)"
      ],
      "execution_count": null,
      "outputs": [
        {
          "output_type": "stream",
          "text": [
            "{'create': 0.5, 'destroy': 0.25, '2': 0.25}\n",
            "0.375\n",
            "0.5555555555555556\n"
          ],
          "name": "stdout"
        }
      ]
    },
    {
      "cell_type": "markdown",
      "metadata": {
        "id": "v8BQEsDpDmuG"
      },
      "source": [
        "### Exercise 2\n",
        "\n",
        "In the remaining exercises, we will calculate actual homophily in these village and compare the obtained values to those obtained by chance. In this exercise, we subset the data into individual villages and store them.\n",
        "\n",
        "#### Instructions \n",
        "\n",
        "- `individual_characteristics.dta` contains several characteristics for each individual in the dataset such as age, religion, and caste. Use the `pandas` library to read in and store these characteristics as a dataframe called `df`.\n",
        "- Store separate datasets for individuals belonging to Villages 1 and 2 as `df1` and `df2`, respectively.\n",
        "- Note that some attributes may be missing for some individuals. In this case study, we will ignore rows of data where some column information is missing.\n",
        "- Use the head method to display the first few entries of `df1`."
      ]
    },
    {
      "cell_type": "code",
      "metadata": {
        "id": "dcgS3Jf9DmuI",
        "outputId": "1d143120-ec38-44b3-99e2-e96404d8bfb0"
      },
      "source": [
        "import pandas as pd\n",
        "df  = pd.read_csv(\"https://courses.edx.org/asset-v1:HarvardX+PH526x+2T2019+type@asset+block@individual_characteristics.csv\", low_memory=False, index_col=0)\n",
        "df1 = df.loc[df[\"village\"]== 1]\n",
        "df2 = df.loc[df[\"village\"]== 2]\n",
        "df1.head()\n",
        "df2.head()"
      ],
      "execution_count": null,
      "outputs": [
        {
          "output_type": "execute_result",
          "data": {
            "text/html": [
              "<div>\n",
              "<style scoped>\n",
              "    .dataframe tbody tr th:only-of-type {\n",
              "        vertical-align: middle;\n",
              "    }\n",
              "\n",
              "    .dataframe tbody tr th {\n",
              "        vertical-align: top;\n",
              "    }\n",
              "\n",
              "    .dataframe thead th {\n",
              "        text-align: right;\n",
              "    }\n",
              "</style>\n",
              "<table border=\"1\" class=\"dataframe\">\n",
              "  <thead>\n",
              "    <tr style=\"text-align: right;\">\n",
              "      <th></th>\n",
              "      <th>village</th>\n",
              "      <th>adjmatrix_key</th>\n",
              "      <th>pid</th>\n",
              "      <th>hhid</th>\n",
              "      <th>resp_id</th>\n",
              "      <th>resp_gend</th>\n",
              "      <th>resp_status</th>\n",
              "      <th>age</th>\n",
              "      <th>religion</th>\n",
              "      <th>caste</th>\n",
              "      <th>...</th>\n",
              "      <th>privategovt</th>\n",
              "      <th>work_outside</th>\n",
              "      <th>work_outside_freq</th>\n",
              "      <th>shgparticipate</th>\n",
              "      <th>shg_no</th>\n",
              "      <th>savings</th>\n",
              "      <th>savings_no</th>\n",
              "      <th>electioncard</th>\n",
              "      <th>rationcard</th>\n",
              "      <th>rationcard_colour</th>\n",
              "    </tr>\n",
              "  </thead>\n",
              "  <tbody>\n",
              "    <tr>\n",
              "      <th>203</th>\n",
              "      <td>2</td>\n",
              "      <td>1</td>\n",
              "      <td>200101</td>\n",
              "      <td>2001</td>\n",
              "      <td>1</td>\n",
              "      <td>1</td>\n",
              "      <td>Head of Household</td>\n",
              "      <td>33</td>\n",
              "      <td>HINDUISM</td>\n",
              "      <td>GENERAL</td>\n",
              "      <td>...</td>\n",
              "      <td>OTHERS</td>\n",
              "      <td>Yes</td>\n",
              "      <td>0.0</td>\n",
              "      <td>No</td>\n",
              "      <td>NaN</td>\n",
              "      <td>No</td>\n",
              "      <td>NaN</td>\n",
              "      <td>Yes</td>\n",
              "      <td>Yes</td>\n",
              "      <td>YELLOW</td>\n",
              "    </tr>\n",
              "    <tr>\n",
              "      <th>204</th>\n",
              "      <td>2</td>\n",
              "      <td>6</td>\n",
              "      <td>200201</td>\n",
              "      <td>2002</td>\n",
              "      <td>1</td>\n",
              "      <td>1</td>\n",
              "      <td>Head of Household</td>\n",
              "      <td>35</td>\n",
              "      <td>HINDUISM</td>\n",
              "      <td>GENERAL</td>\n",
              "      <td>...</td>\n",
              "      <td>OTHERS</td>\n",
              "      <td>No</td>\n",
              "      <td>NaN</td>\n",
              "      <td>No</td>\n",
              "      <td>NaN</td>\n",
              "      <td>No</td>\n",
              "      <td>NaN</td>\n",
              "      <td>Yes</td>\n",
              "      <td>Yes</td>\n",
              "      <td>YELLOW</td>\n",
              "    </tr>\n",
              "    <tr>\n",
              "      <th>205</th>\n",
              "      <td>2</td>\n",
              "      <td>7</td>\n",
              "      <td>200202</td>\n",
              "      <td>2002</td>\n",
              "      <td>2</td>\n",
              "      <td>2</td>\n",
              "      <td>Spouse of Head of Household</td>\n",
              "      <td>30</td>\n",
              "      <td>HINDUISM</td>\n",
              "      <td>GENERAL</td>\n",
              "      <td>...</td>\n",
              "      <td>OTHERS</td>\n",
              "      <td>No</td>\n",
              "      <td>NaN</td>\n",
              "      <td>Yes</td>\n",
              "      <td>1.0</td>\n",
              "      <td>Yes</td>\n",
              "      <td>1.0</td>\n",
              "      <td>Yes</td>\n",
              "      <td>Yes</td>\n",
              "      <td>YELLOW</td>\n",
              "    </tr>\n",
              "    <tr>\n",
              "      <th>206</th>\n",
              "      <td>2</td>\n",
              "      <td>12</td>\n",
              "      <td>200401</td>\n",
              "      <td>2004</td>\n",
              "      <td>1</td>\n",
              "      <td>1</td>\n",
              "      <td>Head of Household</td>\n",
              "      <td>42</td>\n",
              "      <td>HINDUISM</td>\n",
              "      <td>GENERAL</td>\n",
              "      <td>...</td>\n",
              "      <td>OTHERS</td>\n",
              "      <td>No</td>\n",
              "      <td>NaN</td>\n",
              "      <td>No</td>\n",
              "      <td>NaN</td>\n",
              "      <td>Yes</td>\n",
              "      <td>1.0</td>\n",
              "      <td>Yes</td>\n",
              "      <td>Yes</td>\n",
              "      <td>YELLOW</td>\n",
              "    </tr>\n",
              "    <tr>\n",
              "      <th>207</th>\n",
              "      <td>2</td>\n",
              "      <td>13</td>\n",
              "      <td>200402</td>\n",
              "      <td>2004</td>\n",
              "      <td>2</td>\n",
              "      <td>2</td>\n",
              "      <td>Spouse of Head of Household</td>\n",
              "      <td>39</td>\n",
              "      <td>HINDUISM</td>\n",
              "      <td>GENERAL</td>\n",
              "      <td>...</td>\n",
              "      <td>NaN</td>\n",
              "      <td>NaN</td>\n",
              "      <td>NaN</td>\n",
              "      <td>Yes</td>\n",
              "      <td>1.0</td>\n",
              "      <td>No</td>\n",
              "      <td>NaN</td>\n",
              "      <td>Yes</td>\n",
              "      <td>Yes</td>\n",
              "      <td>YELLOW</td>\n",
              "    </tr>\n",
              "  </tbody>\n",
              "</table>\n",
              "<p>5 rows × 48 columns</p>\n",
              "</div>"
            ],
            "text/plain": [
              "     village  adjmatrix_key     pid  hhid  resp_id  resp_gend  \\\n",
              "203        2              1  200101  2001        1          1   \n",
              "204        2              6  200201  2002        1          1   \n",
              "205        2              7  200202  2002        2          2   \n",
              "206        2             12  200401  2004        1          1   \n",
              "207        2             13  200402  2004        2          2   \n",
              "\n",
              "                     resp_status  age  religion    caste  ... privategovt  \\\n",
              "203            Head of Household   33  HINDUISM  GENERAL  ...      OTHERS   \n",
              "204            Head of Household   35  HINDUISM  GENERAL  ...      OTHERS   \n",
              "205  Spouse of Head of Household   30  HINDUISM  GENERAL  ...      OTHERS   \n",
              "206            Head of Household   42  HINDUISM  GENERAL  ...      OTHERS   \n",
              "207  Spouse of Head of Household   39  HINDUISM  GENERAL  ...         NaN   \n",
              "\n",
              "    work_outside work_outside_freq shgparticipate shg_no savings savings_no  \\\n",
              "203          Yes               0.0             No    NaN      No        NaN   \n",
              "204           No               NaN             No    NaN      No        NaN   \n",
              "205           No               NaN            Yes    1.0     Yes        1.0   \n",
              "206           No               NaN             No    NaN     Yes        1.0   \n",
              "207          NaN               NaN            Yes    1.0      No        NaN   \n",
              "\n",
              "    electioncard rationcard rationcard_colour  \n",
              "203          Yes        Yes            YELLOW  \n",
              "204          Yes        Yes            YELLOW  \n",
              "205          Yes        Yes            YELLOW  \n",
              "206          Yes        Yes            YELLOW  \n",
              "207          Yes        Yes            YELLOW  \n",
              "\n",
              "[5 rows x 48 columns]"
            ]
          },
          "metadata": {
            "tags": []
          },
          "execution_count": 5
        }
      ]
    },
    {
      "cell_type": "markdown",
      "metadata": {
        "id": "QmoKzWrxDmuP"
      },
      "source": [
        "### Exercise 3 \n",
        "\n",
        "In this exercise, we define a few dictionaries that enable us to look up the sex, caste, and religion of members of each village by personal ID. For Villages 1 and 2, their personal IDs are stored as `pid`.\n",
        "\n",
        "#### Instructions \n",
        "- Define dictionaries with personal IDs as keys and a given covariate for that individual as values. Complete this for the sex, caste, and religion covariates, for Villages 1 and 2.\n",
        "- For Village 1, store these dictionaries into variables named `sex1`, `caste1`, and `religion1`.\n",
        "- For Village 2, store these dictionaries into variables named `sex2`, `caste2`, and `religion2`."
      ]
    },
    {
      "cell_type": "code",
      "metadata": {
        "id": "hTGZAHz6DmuS",
        "outputId": "1c5ab6b6-3ae3-426b-888b-8b5041be4f8c"
      },
      "source": [
        "#sex\n",
        "sex1 = {}\n",
        "for i in range(len(df1)):\n",
        "    sex1[str(df1[\"pid\"][i])] = df1[\"resp_gend\"][i]\n",
        "sex1\n",
        "\n",
        "sex2 = {}\n",
        "for i in range(len(df2)):\n",
        "    sex2[str(list(df2[\"pid\"])[i])] = list(df2[\"resp_gend\"])[i]\n",
        "sex2\n",
        "\n",
        "# caste\n",
        "caste1 = {}\n",
        "for i in range(len(df1)):\n",
        "    caste1[str(df1[\"pid\"][i])] = df1[\"caste\"][i]\n",
        "caste1\n",
        "\n",
        "caste2 = {}\n",
        "for i in range(len(df2)):\n",
        "    caste2[str(list(df2[\"pid\"])[i])] = list(df2[\"caste\"])[i]\n",
        "caste2\n",
        "\n",
        "\n",
        "\n",
        "# religion\n",
        "religion1 = {}\n",
        "for i in range(len(df1)):\n",
        "    religion1[str(df1[\"pid\"][i])] = df1[\"religion\"][i]\n",
        "religion1\n",
        "\n",
        "religion2 = {}\n",
        "for i in range(len(df2)):\n",
        "    religion2[str(list(df2[\"pid\"])[i])] = list(df2[\"religion\"])[i]\n",
        "religion2\n",
        "\n",
        "#What is the caste value for personal ID 202802 in village 2?\n",
        "caste2[\"202802\"]"
      ],
      "execution_count": null,
      "outputs": [
        {
          "output_type": "execute_result",
          "data": {
            "text/plain": [
              "'OBC'"
            ]
          },
          "metadata": {
            "tags": []
          },
          "execution_count": 6
        }
      ]
    },
    {
      "cell_type": "markdown",
      "metadata": {
        "id": "vR2hwobTDmuv"
      },
      "source": [
        "### Exercise 4\n",
        "\n",
        "In this exercise, we will print the chance homophily of several characteristics of Villages 1 and 2. \n",
        "\n",
        "#### Instructions \n",
        "-  Use `chance_homophily` to compute the chance homophily for sex, caste, and religion In Villages 1 and 2. Is the chance homophily for any attribute very high for either village?"
      ]
    },
    {
      "cell_type": "code",
      "metadata": {
        "id": "2Y6GpxhgDmuy",
        "outputId": "c54a1206-d523-44f0-deb6-9cacb52454d5"
      },
      "source": [
        "#sex\n",
        "print(chance_homophily(sex1))\n",
        "print(chance_homophily(sex2))\n",
        "#caste\n",
        "print(chance_homophily(caste1))\n",
        "print(chance_homophily(caste2))\n",
        "#religion\n",
        "print(chance_homophily(religion1))\n",
        "print(chance_homophily(religion2))"
      ],
      "execution_count": null,
      "outputs": [
        {
          "output_type": "stream",
          "text": [
            "0.5027299861680701\n",
            "0.5005945303210464\n",
            "0.6741488509791551\n",
            "0.425368244800893\n",
            "0.9804896988521925\n",
            "1.0\n"
          ],
          "name": "stdout"
        }
      ]
    },
    {
      "cell_type": "markdown",
      "metadata": {
        "id": "cSpsQZOTDmu-"
      },
      "source": [
        "### Exercise 5\n",
        "\n",
        "In this exercise, we will create a function that computes the observed homophily given a village and characteristic.\n",
        "\n",
        "#### Instructions \n",
        "- Complete the function `homophily()`, which takes a network `G`, a dictionary of node characteristics `chars`, and node IDs `IDs`. For each node pair, determine whether a tie exists between them, as well as whether they share a characteristic. The total count of these is `num_ties` and `num_same_ties`, respectively, and their ratio is the homophily of chars in `G`. Complete the function by choosing where to increment `num_same_ties` and `num_ties`."
      ]
    },
    {
      "cell_type": "code",
      "metadata": {
        "id": "K43uUpeYDmvC"
      },
      "source": [
        "def homophily(G, chars, IDs):\n",
        "    \"\"\"\n",
        "    Given a network G, a dict of characteristics chars for node IDs,\n",
        "    and dict of node IDs for each node in the network,\n",
        "    find the homophily of the network.\n",
        "    \"\"\"\n",
        "#     num_same_ties = 0\n",
        "#     num_ties = 0\n",
        "#     for n1, n2 in G.edges():  #select each end points in G.edges\n",
        "#         if IDs[n1] in chars and IDs[n2] in chars:  #check if both IDs in the ID dict are found in the chars dict\n",
        "#             if G.has_edge(n1, n2): #check for a connection b/n the two edges \n",
        "#                 num_ties += 1\n",
        "#                 if chars[IDs[n1]] == chars[IDs[n2]]: #check whether the IDs of the two points have the same characteristics in chars dict\n",
        "#                     num_same_ties +=1\n",
        "#         return print(\"The network does not meet the prerequisites\")\n",
        "#     return (num_same_ties / num_ties)    #returning homophily\n",
        "\n",
        "\n",
        "    num_same_ties = 0\n",
        "    num_ties = 0\n",
        "    for n1, n2 in G.edges():  #select each end points in G.edges\n",
        "        if G.has_edge(n1, n2): #check for a connection b/n the two edges \n",
        "            num_ties += 1\n",
        "        if IDs[n1] in chars and IDs[n2] in chars:  #check if both IDs in the ID dict are found in the chars dict\n",
        "                if chars[IDs[n1]] == chars[IDs[n2]]: #check whether the IDs of the two points have the same characteristics in chars dict\n",
        "                    num_same_ties +=1\n",
        "        return print(\"The network does not meet the prerequisites\")\n",
        "    return (num_same_ties / num_ties)    #returning homophily"
      ],
      "execution_count": null,
      "outputs": []
    },
    {
      "cell_type": "markdown",
      "metadata": {
        "id": "xjSjBW6MDmvL"
      },
      "source": [
        "### Exercise 6\n",
        "\n",
        "In this exercise, we will obtain the personal IDs for Villages 1 and 2. These will be used in the next exercise to calculate homophily for these villages.\n",
        "\n",
        "#### Instructions \n",
        "- In this dataset, each individual has a personal ID, or PID, stored in `key_vilno_1.csv` and `key_vilno_2.csv` for villages 1 and 2, respectively. `data_filepath1` and `data_filepath2` contain the URLs to the datasets used in this exercise. Use `pd.read_csv` to read in and store `key_vilno_1.csv` and `key_vilno_2.csv` as `pid1` and `pid2` respectively. "
      ]
    },
    {
      "cell_type": "code",
      "metadata": {
        "id": "ljYRfKxqDmvM",
        "outputId": "6166d3d9-27a5-4766-bf29-50e24cd26739"
      },
      "source": [
        "data_filepath1 = \"https://courses.edx.org/asset-v1:HarvardX+PH526x+2T2019+type@asset+block@key_vilno_1.csv\"\n",
        "data_filepath2 = \"https://courses.edx.org/asset-v1:HarvardX+PH526x+2T2019+type@asset+block@key_vilno_2.csv\"\n",
        "pid1 = pd.read_csv(data_filepath1)\n",
        "pid2 = pd.read_csv(data_filepath2)\n",
        "\n",
        "#renaming columns for aesthetic\n",
        "pid1 = pid1.rename(columns = {\"0\":\"Personal IDs\"})\n",
        "pid2 = pid2.rename(columns = {\"0\":\"Personal IDs\"})\n",
        "\n",
        "#What is the personal ID of the person at index 100 in village 1?\n",
        "pid1[\"Personal IDs\"][100]"
      ],
      "execution_count": null,
      "outputs": [
        {
          "output_type": "execute_result",
          "data": {
            "text/plain": [
              "102205"
            ]
          },
          "metadata": {
            "tags": []
          },
          "execution_count": 21
        }
      ]
    },
    {
      "cell_type": "markdown",
      "metadata": {
        "id": "Beel6jQyDmvX"
      },
      "source": [
        "### Exercise 7\n",
        "\n",
        "In this exercise, we will compute the homophily of several network characteristics for Villages 1 and 2 and compare them to homophily due to chance alone. The networks for these villages have been stored as networkx graph objects `G1` and `G2`.\n",
        "\n",
        "#### Instructions \n",
        "\n",
        "- Use your `homophily()` function to compute the observed homophily for sex, caste, and religion in Villages 1 and 2. Print all six values.\n",
        "- Use the `chance_homophily()` to compare these values to chance homophily. Are these values higher or lower than that expected by chance?"
      ]
    },
    {
      "cell_type": "code",
      "metadata": {
        "id": "jS8mO-qsDmvZ"
      },
      "source": [
        "import networkx as nx\n",
        "A1 = np.array(pd.read_csv(\"https://courses.edx.org/asset-v1:HarvardX+PH526x+2T2019+type@asset+block@adj_allVillageRelationships_vilno1.csv\", index_col=0))\n",
        "A2 = np.array(pd.read_csv(\"https://courses.edx.org/asset-v1:HarvardX+PH526x+2T2019+type@asset+block@adj_allVillageRelationships_vilno2.csv\", index_col=0))\n",
        "G1 = nx.to_networkx_graph(A1)\n",
        "G2 = nx.to_networkx_graph(A2)\n",
        "\n",
        "pid1 = pd.read_csv(data_filepath1, dtype=int)['0'].to_dict() #convert to dict\n",
        "pid2 = pd.read_csv(data_filepath2, dtype=int)['0'].to_dict() #convert to dict\n",
        "\n",
        "# calculating homophily\n",
        "\n",
        "# x,y = list(G1.edges())[1]\n",
        "# x,y\n",
        "\n",
        "# # G1.has_edge(0,2) \n",
        "# for i, j in G1.edges():\n",
        "#     a = pid1[i] in sex1\n",
        "#     b = pid1[j] in sex1\n",
        "# a \n",
        "# b\n",
        "\n",
        "\n",
        "# a = []\n",
        "# for i, j in G1.edges():\n",
        "#     a.append((i,j))\n",
        "# a\n",
        "\n",
        "#sex ??????\n",
        "# print(homophily(G1,sex1,pid1))\n",
        "# print(homophily(G2,sex2,pid2))\n",
        "# # #caste\n",
        "# print(homophily(G1,caste1,pid1))\n",
        "# print(homophily(G2,caste2,pid2))\n",
        "# # #religion\n",
        "# print(homophily(G1,religion1,pid1))\n",
        "# print(homophily(G2,religion2,pid2))\n"
      ],
      "execution_count": null,
      "outputs": []
    },
    {
      "cell_type": "code",
      "metadata": {
        "id": "wXUCzKZqDmvd"
      },
      "source": [
        ""
      ],
      "execution_count": null,
      "outputs": []
    }
  ]
}