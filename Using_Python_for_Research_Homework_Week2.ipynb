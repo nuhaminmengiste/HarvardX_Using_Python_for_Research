{
  "nbformat": 4,
  "nbformat_minor": 0,
  "metadata": {
    "kernelspec": {
      "display_name": "Python 3",
      "language": "python",
      "name": "python3"
    },
    "language_info": {
      "codemirror_mode": {
        "name": "ipython",
        "version": 3
      },
      "file_extension": ".py",
      "mimetype": "text/x-python",
      "name": "python",
      "nbconvert_exporter": "python",
      "pygments_lexer": "ipython3",
      "version": "3.7.6"
    },
    "colab": {
      "name": "Using_Python_for_Research_Homework_Week2.ipynb",
      "provenance": [],
      "include_colab_link": true
    }
  },
  "cells": [
    {
      "cell_type": "markdown",
      "metadata": {
        "id": "view-in-github",
        "colab_type": "text"
      },
      "source": [
        "<a href=\"https://colab.research.google.com/github/nuhaminmengiste/HarvardX_Using_Python_for_Research/blob/master/Using_Python_for_Research_Homework_Week2.ipynb\" target=\"_parent\"><img src=\"https://colab.research.google.com/assets/colab-badge.svg\" alt=\"Open In Colab\"/></a>"
      ]
    },
    {
      "cell_type": "markdown",
      "metadata": {
        "id": "_DzkRu9dfvNe"
      },
      "source": [
        "# Using Python for Research Homework: Week 2\n",
        "\n",
        "In this homework, we will use the tools we've covered in the past two weeks to create a tic-tac-toe (noughts and crosses) simulator and evaluate basic winning strategies."
      ]
    },
    {
      "cell_type": "markdown",
      "metadata": {
        "id": "O6RIs_ISfvNf"
      },
      "source": [
        "### Exercise 1\n",
        "\n",
        "Tic-tac-toe (or noughts and crosses) is a simple strategy game in which two players take turns placing a mark on a 3x3 board, attempting to make a row, column, or diagonal of three with their mark. In this homework, we will use the tools we've covered in the past two weeks to create a tic-tac-toe simulator and evaluate basic winning strategies.\n",
        "\n",
        "In the following exercises, we will learn to create a tic-tac-toe board, place markers on the board, evaluate if either player has won, and use this to simulate two basic strategies.\n",
        "\n",
        "#### Instructions \n",
        "\n",
        "- For our tic-tac-toe board, we will use a numpy array with dimension 3 by 3. \n",
        "- Make a function `create_board()` that creates such a board with the value of each cell set to the integer `0`.\n",
        "- Call `create_board()` and store it."
      ]
    },
    {
      "cell_type": "code",
      "metadata": {
        "id": "7dpanE-1fvNg",
        "outputId": "14d6f9eb-c9c1-467a-e99a-5e31a52f1266"
      },
      "source": [
        "import numpy as np\n",
        "def create_board():\n",
        "    x = np.zeros((3,3), dtype=int)\n",
        "    return x\n",
        "create_board()"
      ],
      "execution_count": null,
      "outputs": [
        {
          "output_type": "execute_result",
          "data": {
            "text/plain": [
              "0"
            ]
          },
          "metadata": {
            "tags": []
          },
          "execution_count": 55
        }
      ]
    },
    {
      "cell_type": "markdown",
      "metadata": {
        "id": "4TZc03E9fvNk"
      },
      "source": [
        "### Exercise 2\n",
        "\n",
        "Players 1 and 2 will take turns changing values of this array from a 0 to a 1 or 2, indicating the number of the player who places a marker there.\n",
        "\n",
        "#### Instructions \n",
        "\n",
        "- Create a function `place(board, player, position)`, where:\n",
        "    - `player` is the current player (an integer 1 or 2).\n",
        "    - `position` is a tuple of length 2 specifying a desired location to place their marker.\n",
        "    - Your function should only allow the current player to place a marker on the board (change the board position to their number) if that position is empty (zero).\n",
        "- Use `create_board()` to store a board as `board`, and use `place` to have Player 1 place a marker on location `(0, 0)`."
      ]
    },
    {
      "cell_type": "code",
      "metadata": {
        "id": "9XXoIN2hfvNl",
        "outputId": "67f57004-df13-43f0-d67a-80f9a1e16541"
      },
      "source": [
        "#defining our function\n",
        "def place(board, player, position):\n",
        "    #specifying the parameters\n",
        "    #player == 1 or 2 how to make players parameter 1 or 2??????\n",
        "    x,y = position\n",
        "    #making sure player checks of position is open AND that one of the players then marks it\n",
        "    if board[position] == 0:\n",
        "        board[position] = player\n",
        "    return board\n",
        "#storing board as create_board and making player 1 make her mark on position (0,0)\n",
        "board = create_board() \n",
        "#setting the arguments of the place\n",
        "place(board, 1, (0,0))\n",
        "#checking if board matrix has changed its value\n",
        "board"
      ],
      "execution_count": null,
      "outputs": [
        {
          "output_type": "execute_result",
          "data": {
            "text/plain": [
              "array([[1, 0, 0],\n",
              "       [0, 0, 0],\n",
              "       [0, 0, 0]])"
            ]
          },
          "metadata": {
            "tags": []
          },
          "execution_count": 472
        }
      ]
    },
    {
      "cell_type": "markdown",
      "metadata": {
        "id": "bi-5QD-KfvNo"
      },
      "source": [
        "### Exercise 3\n",
        "\n",
        "In this exercise, we will determine which positions are available to either player for placing their marker.\n",
        "\n",
        "#### Instructions \n",
        "- Create a function `possibilities(board)` that returns a list of all positions (tuples) on the board that are not occupied (0). (Hint: `numpy.where` is a handy function that returns a list of indices that meet a condition.)\n",
        "- `board` is already defined from previous exercises. Call `possibilities(board)` to see what it returns!"
      ]
    },
    {
      "cell_type": "code",
      "metadata": {
        "id": "nikk4ThEfvNp",
        "outputId": "9c4c4880-a196-4ee7-dbfb-f358cfd25e49"
      },
      "source": [
        "def possibilities(board):\n",
        "    #setting the index nubmer\n",
        "    x = [0, 1, 2]\n",
        "    y = [0, 1, 2]\n",
        "    #creating an array of x values (shown in row 1) and corresponding y values (shown in row 2) that meet the condition set\n",
        "    a = np.where(board == 0)\n",
        "    #packing the x and y values of rows 0 and 1 respectively as tuples for convenience when indexing\n",
        "    possible = np.empty(len(a))\n",
        "    for i in len(a):\n",
        "        np.concatenate(possible,(a[0][i],a[1][i]))\n",
        "    return possible\n",
        "        \n",
        "   # return a\n",
        "#returns an array of possibilities where first row [0] is the x values and second row [1] are the corresponding y values\n",
        "possibilities(board)\n",
        "\n",
        "#check out https://thispointer.com/find-the-index-of-a-value-in-numpy-array/ \"Find index of a value in 2D Numpy array | Matrix\"\n",
        "#restructuring the result to make it an array of tuples"
      ],
      "execution_count": null,
      "outputs": [
        {
          "output_type": "error",
          "ename": "TypeError",
          "evalue": "'int' object is not iterable",
          "traceback": [
            "\u001b[1;31m---------------------------------------------------------------------------\u001b[0m",
            "\u001b[1;31mTypeError\u001b[0m                                 Traceback (most recent call last)",
            "\u001b[1;32m<ipython-input-527-7b5a474584dc>\u001b[0m in \u001b[0;36m<module>\u001b[1;34m\u001b[0m\n\u001b[0;32m     13\u001b[0m    \u001b[1;31m# return a\u001b[0m\u001b[1;33m\u001b[0m\u001b[1;33m\u001b[0m\u001b[1;33m\u001b[0m\u001b[0m\n\u001b[0;32m     14\u001b[0m \u001b[1;31m#returns an array of possibilities where first row [0] is the x values and second row [1] are the corresponding y values\u001b[0m\u001b[1;33m\u001b[0m\u001b[1;33m\u001b[0m\u001b[1;33m\u001b[0m\u001b[0m\n\u001b[1;32m---> 15\u001b[1;33m \u001b[0mpossibilities\u001b[0m\u001b[1;33m(\u001b[0m\u001b[0mboard\u001b[0m\u001b[1;33m)\u001b[0m\u001b[1;33m\u001b[0m\u001b[1;33m\u001b[0m\u001b[0m\n\u001b[0m\u001b[0;32m     16\u001b[0m \u001b[1;33m\u001b[0m\u001b[0m\n\u001b[0;32m     17\u001b[0m \u001b[1;31m#check out https://thispointer.com/find-the-index-of-a-value-in-numpy-array/ \"Find index of a value in 2D Numpy array | Matrix\"\u001b[0m\u001b[1;33m\u001b[0m\u001b[1;33m\u001b[0m\u001b[1;33m\u001b[0m\u001b[0m\n",
            "\u001b[1;32m<ipython-input-527-7b5a474584dc>\u001b[0m in \u001b[0;36mpossibilities\u001b[1;34m(board)\u001b[0m\n\u001b[0;32m      7\u001b[0m     \u001b[1;31m#packing the x and y values of rows 0 and 1 respectively as tuples for convenience when indexing\u001b[0m\u001b[1;33m\u001b[0m\u001b[1;33m\u001b[0m\u001b[1;33m\u001b[0m\u001b[0m\n\u001b[0;32m      8\u001b[0m     \u001b[0mpossible\u001b[0m \u001b[1;33m=\u001b[0m \u001b[0mnp\u001b[0m\u001b[1;33m.\u001b[0m\u001b[0mempty\u001b[0m\u001b[1;33m(\u001b[0m\u001b[0mlen\u001b[0m\u001b[1;33m(\u001b[0m\u001b[0ma\u001b[0m\u001b[1;33m)\u001b[0m\u001b[1;33m)\u001b[0m\u001b[1;33m\u001b[0m\u001b[1;33m\u001b[0m\u001b[0m\n\u001b[1;32m----> 9\u001b[1;33m     \u001b[1;32mfor\u001b[0m \u001b[0mi\u001b[0m \u001b[1;32min\u001b[0m \u001b[0mlen\u001b[0m\u001b[1;33m(\u001b[0m\u001b[0ma\u001b[0m\u001b[1;33m)\u001b[0m\u001b[1;33m:\u001b[0m\u001b[1;33m\u001b[0m\u001b[1;33m\u001b[0m\u001b[0m\n\u001b[0m\u001b[0;32m     10\u001b[0m         \u001b[0mnp\u001b[0m\u001b[1;33m.\u001b[0m\u001b[0mconcatenate\u001b[0m\u001b[1;33m(\u001b[0m\u001b[0mpossible\u001b[0m\u001b[1;33m,\u001b[0m\u001b[1;33m(\u001b[0m\u001b[0ma\u001b[0m\u001b[1;33m[\u001b[0m\u001b[1;36m0\u001b[0m\u001b[1;33m]\u001b[0m\u001b[1;33m[\u001b[0m\u001b[0mi\u001b[0m\u001b[1;33m]\u001b[0m\u001b[1;33m,\u001b[0m\u001b[0ma\u001b[0m\u001b[1;33m[\u001b[0m\u001b[1;36m1\u001b[0m\u001b[1;33m]\u001b[0m\u001b[1;33m[\u001b[0m\u001b[0mi\u001b[0m\u001b[1;33m]\u001b[0m\u001b[1;33m)\u001b[0m\u001b[1;33m)\u001b[0m\u001b[1;33m\u001b[0m\u001b[1;33m\u001b[0m\u001b[0m\n\u001b[0;32m     11\u001b[0m     \u001b[1;32mreturn\u001b[0m \u001b[0mpossible\u001b[0m\u001b[1;33m\u001b[0m\u001b[1;33m\u001b[0m\u001b[0m\n",
            "\u001b[1;31mTypeError\u001b[0m: 'int' object is not iterable"
          ]
        }
      ]
    },
    {
      "cell_type": "markdown",
      "metadata": {
        "id": "sgEHHA2QfvNs"
      },
      "source": [
        "### Exercise 4\n",
        "\n",
        "The next step is for the current player to place a marker among the available positions. In this exercise, we will select an available board position at random and place a marker there.\n",
        "\n",
        "#### Instructions \n",
        "\n",
        "- Write a function `random_place(board, player)` that places a marker for the current player at random among all the available positions (those currently set to 0).\n",
        "    - Find possible placements with `possibilities(board)`.\n",
        "    - Select one possible placement at random using `random.choice(selection)`.\n",
        "- `board` is already defined from previous exercises. Call `random_place(board, player)` to place a random marker for Player 2, and store this as board to update its value."
      ]
    },
    {
      "cell_type": "code",
      "metadata": {
        "id": "nLy-w8p-fvNt",
        "outputId": "6eb61826-61f9-4ea1-8abd-83a80a2363f2"
      },
      "source": [
        "#defining the function\n",
        "import random \n",
        "#random.seed(1)\n",
        "def random_place(board,player):\n",
        "    #making sure to randomly select values from row 1 (x-values) and then select its corresponding y-value when indexing baord, b/c selecting both of them at random risks selecting board positions that are already filled\n",
        "    x = (random.choice(possibilities(board)[0]))\n",
        "    #finding the possible index value/s of the randomly selected x value and selecting that at random\n",
        "   # y = random.choice(np.where(possibilities(board)[0]==x))\n",
        "    #selecting the index of x and the corresponding y\n",
        "    board[x,y] = player\n",
        "    return board\n",
        "#randomly marking an open position with player 2\n",
        "random_place(board,2)\n",
        "#checking the possiblities left\n",
        "#possibilities(board)"
      ],
      "execution_count": null,
      "outputs": [
        {
          "output_type": "error",
          "ename": "IndexError",
          "evalue": "index 4 is out of bounds for axis 1 with size 3",
          "traceback": [
            "\u001b[1;31m---------------------------------------------------------------------------\u001b[0m",
            "\u001b[1;31mIndexError\u001b[0m                                Traceback (most recent call last)",
            "\u001b[1;32m<ipython-input-501-29cc4de43308>\u001b[0m in \u001b[0;36m<module>\u001b[1;34m\u001b[0m\n\u001b[0;32m     11\u001b[0m     \u001b[1;32mreturn\u001b[0m \u001b[0mboard\u001b[0m\u001b[1;33m\u001b[0m\u001b[1;33m\u001b[0m\u001b[0m\n\u001b[0;32m     12\u001b[0m \u001b[1;31m#randomly marking an open position with player 2\u001b[0m\u001b[1;33m\u001b[0m\u001b[1;33m\u001b[0m\u001b[1;33m\u001b[0m\u001b[0m\n\u001b[1;32m---> 13\u001b[1;33m \u001b[0mrandom_place\u001b[0m\u001b[1;33m(\u001b[0m\u001b[0mboard\u001b[0m\u001b[1;33m,\u001b[0m\u001b[1;36m2\u001b[0m\u001b[1;33m)\u001b[0m\u001b[1;33m\u001b[0m\u001b[1;33m\u001b[0m\u001b[0m\n\u001b[0m\u001b[0;32m     14\u001b[0m \u001b[1;31m#checking the possiblities left\u001b[0m\u001b[1;33m\u001b[0m\u001b[1;33m\u001b[0m\u001b[1;33m\u001b[0m\u001b[0m\n\u001b[0;32m     15\u001b[0m \u001b[1;31m#possibilities(board)\u001b[0m\u001b[1;33m\u001b[0m\u001b[1;33m\u001b[0m\u001b[1;33m\u001b[0m\u001b[0m\n",
            "\u001b[1;32m<ipython-input-501-29cc4de43308>\u001b[0m in \u001b[0;36mrandom_place\u001b[1;34m(board, player)\u001b[0m\n\u001b[0;32m      8\u001b[0m     \u001b[0my\u001b[0m \u001b[1;33m=\u001b[0m \u001b[0mrandom\u001b[0m\u001b[1;33m.\u001b[0m\u001b[0mchoice\u001b[0m\u001b[1;33m(\u001b[0m\u001b[0mnp\u001b[0m\u001b[1;33m.\u001b[0m\u001b[0mwhere\u001b[0m\u001b[1;33m(\u001b[0m\u001b[0mpossibilities\u001b[0m\u001b[1;33m(\u001b[0m\u001b[0mboard\u001b[0m\u001b[1;33m)\u001b[0m\u001b[1;33m[\u001b[0m\u001b[1;36m0\u001b[0m\u001b[1;33m]\u001b[0m\u001b[1;33m==\u001b[0m\u001b[0mx\u001b[0m\u001b[1;33m)\u001b[0m\u001b[1;33m)\u001b[0m\u001b[1;33m\u001b[0m\u001b[1;33m\u001b[0m\u001b[0m\n\u001b[0;32m      9\u001b[0m     \u001b[1;31m#selecting the index of x and the corresponding y\u001b[0m\u001b[1;33m\u001b[0m\u001b[1;33m\u001b[0m\u001b[1;33m\u001b[0m\u001b[0m\n\u001b[1;32m---> 10\u001b[1;33m     \u001b[0mboard\u001b[0m\u001b[1;33m[\u001b[0m\u001b[0mx\u001b[0m\u001b[1;33m,\u001b[0m\u001b[0my\u001b[0m\u001b[1;33m]\u001b[0m \u001b[1;33m=\u001b[0m \u001b[0mplayer\u001b[0m\u001b[1;33m\u001b[0m\u001b[1;33m\u001b[0m\u001b[0m\n\u001b[0m\u001b[0;32m     11\u001b[0m     \u001b[1;32mreturn\u001b[0m \u001b[0mboard\u001b[0m\u001b[1;33m\u001b[0m\u001b[1;33m\u001b[0m\u001b[0m\n\u001b[0;32m     12\u001b[0m \u001b[1;31m#randomly marking an open position with player 2\u001b[0m\u001b[1;33m\u001b[0m\u001b[1;33m\u001b[0m\u001b[1;33m\u001b[0m\u001b[0m\n",
            "\u001b[1;31mIndexError\u001b[0m: index 4 is out of bounds for axis 1 with size 3"
          ]
        }
      ]
    },
    {
      "cell_type": "markdown",
      "metadata": {
        "id": "uxuFrXcCfvNw"
      },
      "source": [
        "### Exercise 5\n",
        "\n",
        "We will now have both players place three markers each.\n",
        "\n",
        "#### Instructions \n",
        "\n",
        "- A new `board` is already given. Call `random_place(board, player)` to place three pieces each on board for players 1 and 2.\n",
        "- Print board to see your result."
      ]
    },
    {
      "cell_type": "code",
      "metadata": {
        "id": "QXub_l8JfvNw"
      },
      "source": [
        "random.seed(1)\n",
        "board = create_board()\n",
        "\n",
        "# write your code here!\n",
        "#first thoughts are that i'll use a for loop to run the code for each player 3 times\n"
      ],
      "execution_count": null,
      "outputs": []
    },
    {
      "cell_type": "markdown",
      "metadata": {
        "id": "q_uyceXNfvNz"
      },
      "source": [
        "### Exercise 6\n",
        "\n",
        "In the next few exercises, we will make functions that check whether either player has won the game.\n",
        "\n",
        "#### Instructions \n",
        "- Make a function `row_win(board, player)` that takes the player (integer) and determines if any row consists of only their marker. \n",
        "    - Have it return `True` if this condition is met and `False` otherwise.\n",
        "- `board` is already defined from previous exercises. Call `row_win` to check if Player 1 has a complete row."
      ]
    },
    {
      "cell_type": "code",
      "metadata": {
        "id": "VooAIsVkfvNz"
      },
      "source": [
        "# write your code here!\n"
      ],
      "execution_count": null,
      "outputs": []
    },
    {
      "cell_type": "markdown",
      "metadata": {
        "id": "rBc3P-brfvN2"
      },
      "source": [
        "### Exercise 7\n",
        "\n",
        "In the next few exercises, we will make functions that verify if either player has won the game.\n",
        "\n",
        "#### Instructions \n",
        "- Make a function `col_win(board, player)` that takes the player (integer) and determines if any column consists of only their marker. \n",
        "    - Have it return `True` if this condition is met and `False` otherwise.\n",
        "- `board` is already defined from previous exercises. Call `col_win` to check if Player 1 has a complete row."
      ]
    },
    {
      "cell_type": "code",
      "metadata": {
        "id": "6EEtnUjZfvN3"
      },
      "source": [
        "# write your code here! \n"
      ],
      "execution_count": null,
      "outputs": []
    },
    {
      "cell_type": "markdown",
      "metadata": {
        "id": "OngEgEmNfvN5"
      },
      "source": [
        "### Exercise 8\n",
        "\n",
        "In the next few exercises, we will make functions that verify if either player has won the game.\n",
        "\n",
        "#### Instructions \n",
        "- Finally, create a function `diag_win(board, player)` that tests if either diagonal of the board consists of only their marker. Have it return `True` if this condition is met, and `False` otherwise.\n",
        "- `board` has been slightly modified from a previous exercise. Call `diag_win` to check if Player 2 has a complete diagonal."
      ]
    },
    {
      "cell_type": "code",
      "metadata": {
        "id": "oOATzGL9fvN6"
      },
      "source": [
        "board[1,1] = 2\n",
        "\n",
        "# write your code here!\n"
      ],
      "execution_count": null,
      "outputs": []
    },
    {
      "cell_type": "markdown",
      "metadata": {
        "id": "yZKSWSt9fvN8"
      },
      "source": [
        "### Exercise 9\n",
        "\n",
        "In the next few exercises, we will make functions that check whether either player has won the game.\n",
        "\n",
        "#### Instructions \n",
        "- Create a function `evaluate(board)` that uses `row_win`, `col_win`, and `diag_win` functions for both players. If one of them has won, return that player's number. If the board is full but no one has won, return -1. Otherwise, return 0.\n",
        "- `board` is already defined from previous exercises. Call evaluate to see if either player has won the game yet."
      ]
    },
    {
      "cell_type": "code",
      "metadata": {
        "id": "YyYCe_JmfvN9"
      },
      "source": [
        "def evaluate(board):\n",
        "    winner = 0\n",
        "    for player in [1, 2]:\n",
        "        # add your code here!\n",
        "        pass\n",
        "    if np.all(board != 0) and winner == 0:\n",
        "        winner = -1\n",
        "    return winner"
      ],
      "execution_count": null,
      "outputs": []
    },
    {
      "cell_type": "markdown",
      "metadata": {
        "id": "soqwmHU-fvN_"
      },
      "source": [
        "### Exercise 10\n",
        "\n",
        "In this exercise, we will use all the functions we have made to simulate an entire game.\n",
        "\n",
        "#### Instructions \n",
        "\n",
        "- `create_board()`, `random_place(board, player)`, and `evaluate(board)` have been created in previous exercises. Create a function `play_game()` that:\n",
        "    - Creates a board.\n",
        "    - Alternates taking turns between two players (beginning with Player 1), placing a marker during each turn.\n",
        "    - Evaluates the board for a winner after each placement.\n",
        "    - Continues the game until one player wins (returning 1 or 2 to reflect the winning player), or the game is a draw (returning -1).\n",
        "- Call play_game 1000 times, and store the results of the game in a list called `results`."
      ]
    },
    {
      "cell_type": "code",
      "metadata": {
        "id": "X4S5vovmfvOA"
      },
      "source": [
        "random.seed(1)\n",
        "\n",
        "# write your code here! \n"
      ],
      "execution_count": null,
      "outputs": []
    },
    {
      "cell_type": "markdown",
      "metadata": {
        "id": "ILB39B1ofvOC"
      },
      "source": [
        "#### Exercise 11\n",
        "\n",
        "In the previous exercise, we see that when guessing at random, it's better to go first, as expected. Let's see if Player 1 can improve their strategy. \n",
        "\n",
        "#### Instructions \n",
        "- Create a function `play_strategic_game()`, where Player 1 always starts with the middle square, and otherwise both players place their markers randomly.\n",
        "- Call `play_strategic_game` 1000 times."
      ]
    },
    {
      "cell_type": "code",
      "metadata": {
        "id": "Ge1tGPHnfvOD"
      },
      "source": [
        "random.seed(1)\n",
        "\n",
        "# write your code here\n"
      ],
      "execution_count": null,
      "outputs": []
    }
  ]
}