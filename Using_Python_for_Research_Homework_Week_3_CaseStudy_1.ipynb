{
  "nbformat": 4,
  "nbformat_minor": 0,
  "metadata": {
    "kernelspec": {
      "display_name": "Python 3",
      "language": "python",
      "name": "python3"
    },
    "language_info": {
      "codemirror_mode": {
        "name": "ipython",
        "version": 3
      },
      "file_extension": ".py",
      "mimetype": "text/x-python",
      "name": "python",
      "nbconvert_exporter": "python",
      "pygments_lexer": "ipython3",
      "version": "3.7.6"
    },
    "colab": {
      "name": "Using_Python_for_Research_Homework_Week_3_CaseStudy_1.ipynb",
      "provenance": [],
      "include_colab_link": true
    }
  },
  "cells": [
    {
      "cell_type": "markdown",
      "metadata": {
        "id": "view-in-github",
        "colab_type": "text"
      },
      "source": [
        "<a href=\"https://colab.research.google.com/github/nuhaminmengiste/HarvardX_Using_Python_for_Research/blob/master/Using_Python_for_Research_Homework_Week_3_CaseStudy_1.ipynb\" target=\"_parent\"><img src=\"https://colab.research.google.com/assets/colab-badge.svg\" alt=\"Open In Colab\"/></a>"
      ]
    },
    {
      "cell_type": "markdown",
      "metadata": {
        "id": "vIOe4j8Vi-_F"
      },
      "source": [
        "# Using Python for Research Homework: Week 3, Case Study 1\n",
        "\n",
        "A cipher is a secret code for a language.  In this case study, we will explore a cipher that is reported by contemporary Greek historians to have been used by Julius Caesar to send secret messages to generals during times of war."
      ]
    },
    {
      "cell_type": "markdown",
      "metadata": {
        "id": "jrSNwBnfi-_P"
      },
      "source": [
        "### Exercise 1\n",
        "\n",
        "A cipher is a secret code for a language. In this case study, we will explore a cipher that is reported by contemporary Greek historians to have been used by Julius Caesar to send secret messages to generals during times of war.\n",
        "\n",
        "The Caesar cipher shifts each letter of a message to another letter in the alphabet located a fixed distance from the original letter. If our encryption key were `1`, we would shift `h` to the next letter `i`, `i` to the next letter `j`, and so on. If we reach the end of the alphabet, which for us is the space character, we simply loop back to `a`. To decode the message, we make a similar shift, except we move the same number of steps backwards in the alphabet.\n",
        "\n",
        "Over the next five exercises, we will create our own Caesar cipher, as well as a message decoder for this cipher. In this exercise, we will define the alphabet used in the cipher.\n",
        "\n",
        "#### Instructions\n",
        "- The `string` library has been imported. Create a string called `alphabet` consisting of the space character `' '` followed by (concatenated with) the lowercase letters. Note that we're only using the lowercase letters in this exercise."
      ]
    },
    {
      "cell_type": "code",
      "metadata": {
        "id": "qgjUO_5yi-_U",
        "outputId": "dabf157c-9fac-4c70-ef47-e027b1401fed",
        "colab": {
          "base_uri": "https://localhost:8080/",
          "height": 35
        }
      },
      "source": [
        "import string\n",
        "alphabet = \" \"+string.ascii_lowercase\n",
        "alphabet"
      ],
      "execution_count": 2,
      "outputs": [
        {
          "output_type": "execute_result",
          "data": {
            "application/vnd.google.colaboratory.intrinsic+json": {
              "type": "string"
            },
            "text/plain": [
              "' abcdefghijklmnopqrstuvwxyz'"
            ]
          },
          "metadata": {
            "tags": []
          },
          "execution_count": 2
        }
      ]
    },
    {
      "cell_type": "markdown",
      "metadata": {
        "id": "IQZfPaKgi_At"
      },
      "source": [
        "### Exercise 2 \n",
        "\n",
        "In this exercise, we will define a dictionary that specifies the index of each character in `alphabet`.\n",
        "\n",
        "#### Instructions \n",
        "- `alphabet` has already defined in the last exercise. Create a dictionary with keys consisting of the characters in alphabet and values consisting of the numbers from 0 to 26.\n",
        "- Store this as `positions`."
      ]
    },
    {
      "cell_type": "code",
      "metadata": {
        "id": "vJEG1cOLi_Aw",
        "outputId": "4391af2d-639a-41c4-8b2d-7dcae07f5a0f",
        "colab": {
          "base_uri": "https://localhost:8080/",
          "height": 476
        }
      },
      "source": [
        "# function to create dictionary\n",
        "def create_dict(x):\n",
        "    y = {}\n",
        "    for i in range(len(x)):\n",
        "        y[x[i]]=i\n",
        "    return y\n",
        "positions = create_dict(alphabet)\n",
        "positions #checking the output"
      ],
      "execution_count": 17,
      "outputs": [
        {
          "output_type": "execute_result",
          "data": {
            "text/plain": [
              "{' ': 0,\n",
              " 'a': 1,\n",
              " 'b': 2,\n",
              " 'c': 3,\n",
              " 'd': 4,\n",
              " 'e': 5,\n",
              " 'f': 6,\n",
              " 'g': 7,\n",
              " 'h': 8,\n",
              " 'i': 9,\n",
              " 'j': 10,\n",
              " 'k': 11,\n",
              " 'l': 12,\n",
              " 'm': 13,\n",
              " 'n': 14,\n",
              " 'o': 15,\n",
              " 'p': 16,\n",
              " 'q': 17,\n",
              " 'r': 18,\n",
              " 's': 19,\n",
              " 't': 20,\n",
              " 'u': 21,\n",
              " 'v': 22,\n",
              " 'w': 23,\n",
              " 'x': 24,\n",
              " 'y': 25,\n",
              " 'z': 26}"
            ]
          },
          "metadata": {
            "tags": []
          },
          "execution_count": 17
        }
      ]
    },
    {
      "cell_type": "markdown",
      "metadata": {
        "id": "gmeAXjO1i_BC"
      },
      "source": [
        "### Exercise 3\n",
        "\n",
        "In this exercise, we will encode a message with a Caesar cipher.\n",
        "\n",
        "#### Instructions \n",
        "\n",
        "- `alphabet` and `positions` have already been defined in previous exercises. Use `positions` to create an encoded message based on message where each character in message has been shifted forward by 1 position, as defined by positions.\n",
        "- **Note that you can ensure the result remains within 0-26 using result % 27**\n",
        "- Store this as `encoded_message`."
      ]
    },
    {
      "cell_type": "code",
      "metadata": {
        "id": "QoFReL_Ni_BE",
        "outputId": "bf044820-6248-42ca-ce92-6a3be8a42bb5",
        "colab": {
          "base_uri": "https://localhost:8080/",
          "height": 34
        }
      },
      "source": [
        "message = \"hi my name is caesar\"\n",
        "# function to return key for any value \n",
        "def get_key(val): \n",
        "    for key, value in positions.items(): \n",
        "         if val == value: \n",
        "             return key \n",
        "  \n",
        "    return \"key doesn't exist\"\n",
        "\n",
        "encoded_message = \"\"\n",
        "for i in message:\n",
        "    encoded_message += get_key(positions[i] + 1)\n",
        "print(encoded_message)"
      ],
      "execution_count": 6,
      "outputs": [
        {
          "output_type": "stream",
          "text": [
            "ijanzaobnfajtadbftbs\n"
          ],
          "name": "stdout"
        }
      ]
    },
    {
      "cell_type": "markdown",
      "metadata": {
        "id": "rz0UYEPRi_BQ"
      },
      "source": [
        "### Exercise 4\n",
        "\n",
        "In this exercise, we will define a function that encodes a message with any given encryption key.\n",
        "\n",
        "#### Instructions \n",
        "- `alphabet`, `position` and `message` remain defined from previous exercises. Define a function `encoding` that takes a message as input as well as an int encryption key `key` to encode a message with the Caesar cipher by shifting each letter in message by key positions.\n",
        "- Your function should return a string consisting of these encoded letters.\n",
        "- Use `encoding` to encode message using `key = 3` and save the result as `encoded_message`.\n",
        "Print `encoded_message`."
      ]
    },
    {
      "cell_type": "code",
      "metadata": {
        "id": "3tSJUkQVi_Bj",
        "outputId": "fa5a7d68-b36c-42da-9365-54251241a90f",
        "colab": {
          "base_uri": "https://localhost:8080/",
          "height": 34
        }
      },
      "source": [
        "#defining encoder with message x and key y\n",
        "def encoding(x,y):\n",
        "    encoded_message = \"\"\n",
        "    for i in x:\n",
        "      #Note that you can ensure the result remains within 0-26 using result % 27 b/c if n < m, then n % m == n; n % n == 0 and goes back to positive 1, 2,3 when n > m\n",
        "      encoded_message += get_key((positions[i] + y) % 27)\n",
        "    return encoded_message\n",
        "#encoding(\"abcd\",2) #checking output\n",
        "\n",
        "#encoding message\n",
        "encoded_message = encoding(message,3)\n",
        "print(encoded_message)"
      ],
      "execution_count": 10,
      "outputs": [
        {
          "output_type": "stream",
          "text": [
            "klcpacqdphclvcfdhvdu\n"
          ],
          "name": "stdout"
        }
      ]
    },
    {
      "cell_type": "markdown",
      "metadata": {
        "id": "t4fVIiC3i_CA"
      },
      "source": [
        "### Exercise 5\n",
        "\n",
        "In this exercise, we will decode an encoded message.\n",
        "\n",
        "#### Instructions \n",
        "- Use `encoding` to decode `encoded_message`.\n",
        "- Store your encoded message as `decoded_message`.\n",
        "- Print `decoded_message`. Does this recover your original message?"
      ]
    },
    {
      "cell_type": "code",
      "metadata": {
        "id": "WflJ_F4ki_CD",
        "outputId": "de7777dc-b353-401d-ad9d-b2afa62a066a",
        "colab": {
          "base_uri": "https://localhost:8080/",
          "height": 35
        }
      },
      "source": [
        "decoded_message = \"\"\n",
        "for i in encoded_message:\n",
        "  # note that when n < m, then -n % m == m - n; and when n > m, then - n % m == m - (n - m)\n",
        "    decoded_message += get_key((positions[i] - 3) % 27)\n",
        "decoded_message\n",
        "    "
      ],
      "execution_count": 19,
      "outputs": [
        {
          "output_type": "execute_result",
          "data": {
            "application/vnd.google.colaboratory.intrinsic+json": {
              "type": "string"
            },
            "text/plain": [
              "'hi my name is caesar'"
            ]
          },
          "metadata": {
            "tags": []
          },
          "execution_count": 19
        }
      ]
    },
    {
      "cell_type": "code",
      "metadata": {
        "id": "plpcm3aMi_CQ"
      },
      "source": [
        ""
      ],
      "execution_count": null,
      "outputs": []
    }
  ]
}