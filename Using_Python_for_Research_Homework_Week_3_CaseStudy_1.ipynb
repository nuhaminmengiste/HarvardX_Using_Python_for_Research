{
  "nbformat": 4,
  "nbformat_minor": 0,
  "metadata": {
    "kernelspec": {
      "display_name": "Python 3",
      "language": "python",
      "name": "python3"
    },
    "language_info": {
      "codemirror_mode": {
        "name": "ipython",
        "version": 3
      },
      "file_extension": ".py",
      "mimetype": "text/x-python",
      "name": "python",
      "nbconvert_exporter": "python",
      "pygments_lexer": "ipython3",
      "version": "3.7.6"
    },
    "colab": {
      "name": "Using_Python_for_Research_Homework_Week_3_CaseStudy_1.ipynb",
      "provenance": [],
      "include_colab_link": true
    }
  },
  "cells": [
    {
      "cell_type": "markdown",
      "metadata": {
        "id": "view-in-github",
        "colab_type": "text"
      },
      "source": [
        "<a href=\"https://colab.research.google.com/github/nuhaminmengiste/HarvardX_Using_Python_for_Research/blob/master/Using_Python_for_Research_Homework_Week_3_CaseStudy_1.ipynb\" target=\"_parent\"><img src=\"https://colab.research.google.com/assets/colab-badge.svg\" alt=\"Open In Colab\"/></a>"
      ]
    },
    {
      "cell_type": "markdown",
      "metadata": {
        "id": "4JI89lxQqs-j"
      },
      "source": [
        "# Using Python for Research Homework: Week 3, Case Study 1\n",
        "\n",
        "A cipher is a secret code for a language.  In this case study, we will explore a cipher that is reported by contemporary Greek historians to have been used by Julius Caesar to send secret messages to generals during times of war."
      ]
    },
    {
      "cell_type": "markdown",
      "metadata": {
        "id": "mzU5HG83qs-n"
      },
      "source": [
        "### Exercise 1\n",
        "\n",
        "A cipher is a secret code for a language. In this case study, we will explore a cipher that is reported by contemporary Greek historians to have been used by Julius Caesar to send secret messages to generals during times of war.\n",
        "\n",
        "The Caesar cipher shifts each letter of a message to another letter in the alphabet located a fixed distance from the original letter. If our encryption key were `1`, we would shift `h` to the next letter `i`, `i` to the next letter `j`, and so on. If we reach the end of the alphabet, which for us is the space character, we simply loop back to `a`. To decode the message, we make a similar shift, except we move the same number of steps backwards in the alphabet.\n",
        "\n",
        "Over the next five exercises, we will create our own Caesar cipher, as well as a message decoder for this cipher. In this exercise, we will define the alphabet used in the cipher.\n",
        "\n",
        "#### Instructions\n",
        "- The `string` library has been imported. Create a string called `alphabet` consisting of the space character `' '` followed by (concatenated with) the lowercase letters. Note that we're only using the lowercase letters in this exercise."
      ]
    },
    {
      "cell_type": "code",
      "metadata": {
        "id": "e2ySDqH6qs-q",
        "outputId": "e581d232-8dc8-4a99-aae4-bf1d50336999"
      },
      "source": [
        "import string\n",
        "alphabet = \" \"+string.ascii_lowercase\n",
        "alphabet"
      ],
      "execution_count": null,
      "outputs": [
        {
          "output_type": "execute_result",
          "data": {
            "text/plain": [
              "' abcdefghijklmnopqrstuvwxyz'"
            ]
          },
          "metadata": {
            "tags": []
          },
          "execution_count": 40
        }
      ]
    },
    {
      "cell_type": "markdown",
      "metadata": {
        "id": "N5fYSelBqs-3"
      },
      "source": [
        "### Exercise 2 \n",
        "\n",
        "In this exercise, we will define a dictionary that specifies the index of each character in `alphabet`.\n",
        "\n",
        "#### Instructions \n",
        "- `alphabet` has already defined in the last exercise. Create a dictionary with keys consisting of the characters in alphabet and values consisting of the numbers from 0 to 26.\n",
        "- Store this as `positions`."
      ]
    },
    {
      "cell_type": "code",
      "metadata": {
        "id": "xDHE9uKsqs-4"
      },
      "source": [
        "# function to create dictionary\n",
        "def create_dict(x):\n",
        "    y = {}\n",
        "    for i in range(len(x)):\n",
        "        y[x[i]]=i\n",
        "    return y\n",
        "positions = create_dict(alphabet)\n",
        "#positions #checking the output"
      ],
      "execution_count": null,
      "outputs": []
    },
    {
      "cell_type": "markdown",
      "metadata": {
        "id": "zxcZNpNQqs_B"
      },
      "source": [
        "### Exercise 3\n",
        "\n",
        "In this exercise, we will encode a message with a Caesar cipher.\n",
        "\n",
        "#### Instructions \n",
        "\n",
        "- `alphabet` and `positions` have already been defined in previous exercises. Use `positions` to create an encoded message based on message where each character in message has been shifted forward by 1 position, as defined by positions.\n",
        "- **Note that you can ensure the result remains within 0-26 using result % 27**\n",
        "- Store this as `encoded_message`."
      ]
    },
    {
      "cell_type": "code",
      "metadata": {
        "id": "OYgG7Ciaqs_D",
        "outputId": "42597192-d33c-423d-d408-7d5c562b5960"
      },
      "source": [
        "message = \"hi my name is caesar\"\n",
        "# function to return key for any value \n",
        "def get_key(val): \n",
        "    for key, value in positions.items(): \n",
        "         if val == value: \n",
        "             return key \n",
        "  \n",
        "    return \"key doesn't exist\"\n",
        "\n",
        "encoded_message = \"\"\n",
        "for i in message:\n",
        "    encoded_message += get_key(positions[i] + 1)\n",
        "print(encoded_message)"
      ],
      "execution_count": null,
      "outputs": [
        {
          "output_type": "stream",
          "text": [
            "ijanzaobnfajtadbftbs\n"
          ],
          "name": "stdout"
        }
      ]
    },
    {
      "cell_type": "markdown",
      "metadata": {
        "id": "w025xavnqs_K"
      },
      "source": [
        "### Exercise 4\n",
        "\n",
        "In this exercise, we will define a function that encodes a message with any given encryption key.\n",
        "\n",
        "#### Instructions \n",
        "- `alphabet`, `position` and `message` remain defined from previous exercises. Define a function `encoding` that takes a message as input as well as an int encryption key `key` to encode a message with the Caesar cipher by shifting each letter in message by key positions.\n",
        "- Your function should return a string consisting of these encoded letters.\n",
        "- Use `encoding` to encode message using `key = 3` and save the result as `encoded_message`.\n",
        "Print `encoded_message`."
      ]
    },
    {
      "cell_type": "code",
      "metadata": {
        "id": "gcHo6GEqqs_L",
        "outputId": "4db609c5-c0ba-4f27-978c-8d8d82199f6b"
      },
      "source": [
        "#defining encoder with message x and key y\n",
        "def encoding(x,y):\n",
        "    encoded_message = \"\"\n",
        "    for i in x: \n",
        "        encoded_message += get_key(positions[i] + y)\n",
        "    return encoded_message\n",
        "#encoding(\"abcd\",2) #checking output\n",
        "\n",
        "#encoding message\n",
        "encoded_message = encoding(message,3)\n",
        "print(encoded_message)"
      ],
      "execution_count": null,
      "outputs": [
        {
          "output_type": "stream",
          "text": [
            "klcpkey doesn't existcqdphclvcfdhvdu\n"
          ],
          "name": "stdout"
        }
      ]
    },
    {
      "cell_type": "markdown",
      "metadata": {
        "id": "KtR1Sjfyqs_r"
      },
      "source": [
        "### Exercise 5\n",
        "\n",
        "In this exercise, we will decode an encoded message.\n",
        "\n",
        "#### Instructions \n",
        "- Use `encoding` to decode `encoded_message`.\n",
        "- Store your encoded message as `decoded_message`.\n",
        "- Print `decoded_message`. Does this recover your original message?"
      ]
    },
    {
      "cell_type": "code",
      "metadata": {
        "id": "A1XlthYjqs_s",
        "outputId": "be1eb203-0cc7-4aa4-f8ef-b46e50f188ec"
      },
      "source": [
        "#decoding the message, need to make sure we parse the appropriate about of digits (i.e. letter 1 and 1 vs. letter 11)\n",
        "decoded_message = \"\"\n",
        "for i in encoded_message:\n",
        "    decoded_message += str(int(i) - 3)\n",
        "decoded_message\n",
        "    "
      ],
      "execution_count": null,
      "outputs": [
        {
          "output_type": "execute_result",
          "data": {
            "text/plain": [
              "'-2-2-2-10-23-150-241-2350-2-1-1-10315-1-11-1-2'"
            ]
          },
          "metadata": {
            "tags": []
          },
          "execution_count": 44
        }
      ]
    },
    {
      "cell_type": "code",
      "metadata": {
        "id": "XQ7Zf5Juqs_y"
      },
      "source": [
        ""
      ],
      "execution_count": null,
      "outputs": []
    }
  ]
}